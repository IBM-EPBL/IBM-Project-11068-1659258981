{
 "cells": [
  {
   "cell_type": "code",
   "execution_count": null,
   "id": "394a7ca4",
   "metadata": {},
   "outputs": [],
   "source": [
    "import numpy as np\n",
    "import pandas as pd\n",
    "import matplotlib.pyplot as plt\n",
    "import seaborn as sns\n",
    "from sklearn import preprocessing\n",
    "from sklearn.preprocessing import OneHotEncoder\n",
    "import plotly.express as px\n",
    "from sklearn.preprocessing import StandardScaler\n",
    "from sklearn.model_selection import train_test_split\n",
    "import wget"
   ]
  },
  {
   "cell_type": "markdown",
   "id": "82bcc98d",
   "metadata": {},
   "source": [
    "# 1. Download the dataset: Churn_Modelling_dataset.csv"
   ]
  },
  {
   "cell_type": "markdown",
   "id": "a858fcbd",
   "metadata": {},
   "source": [
    "# 2. Load the dataset"
   ]
  },
  {
   "cell_type": "code",
   "execution_count": null,
   "id": "d29ba6fd",
   "metadata": {},
   "outputs": [],
   "source": [
    "df = pd.read_csv('C:/Users/Praneeth/Churn_Modelling.csv', index_col=0)"
   ]
  },
  {
   "cell_type": "code",
   "execution_count": null,
   "id": "9cf23975",
   "metadata": {},
   "outputs": [],
   "source": [
    "np.unique(df['Exited'])"
   ]
  },
  {
   "cell_type": "markdown",
   "id": "9bd69aac",
   "metadata": {},
   "source": [
    "# 5. Handle the Missing values"
   ]
  },
  {
   "cell_type": "code",
   "execution_count": null,
   "id": "7f019870",
   "metadata": {},
   "outputs": [],
   "source": [
    "df.isnull().sum()"
   ]
  },
  {
   "cell_type": "markdown",
   "id": "14b2fe21",
   "metadata": {},
   "source": [
    "# 4. Perform descriptive statistics on the dataset."
   ]
  },
  {
   "cell_type": "code",
   "execution_count": null,
   "id": "8bee0158",
   "metadata": {},
   "outputs": [],
   "source": [
    "df.describe(include='all')"
   ]
  },
  {
   "cell_type": "markdown",
   "id": "a7856587",
   "metadata": {},
   "source": [
    "# 3. Perform Below Visualizations.\n",
    "* Univariate Analysis\n",
    "* Bi - Variate Analysis\n",
    "* Multi - Variate Analysis"
   ]
  },
  {
   "cell_type": "code",
   "execution_count": null,
   "id": "753664c9",
   "metadata": {},
   "outputs": [],
   "source": [
    "plt.scatter(df.index,df['Exited'])"
   ]
  },
  {
   "cell_type": "code",
   "execution_count": null,
   "id": "4e4f99cc",
   "metadata": {},
   "outputs": [],
   "source": [
    "sns.displot(df['Balance'])"
   ]
  },
  {
   "cell_type": "code",
   "execution_count": null,
   "id": "aa734af0",
   "metadata": {},
   "outputs": [],
   "source": [
    "sns.rugplot(df['CreditScore'])"
   ]
  },
  {
   "cell_type": "code",
   "execution_count": null,
   "id": "34a30d7e",
   "metadata": {},
   "outputs": [],
   "source": [
    "sns.scatterplot(x=df['CreditScore'], y=df['Balance'])"
   ]
  },
  {
   "cell_type": "code",
   "execution_count": null,
   "id": "41944fc4",
   "metadata": {},
   "outputs": [],
   "source": [
    "sns.boxplot(x='IsActiveMember', y='Exited', data=df)"
   ]
  },
  {
   "cell_type": "code",
   "execution_count": null,
   "id": "0e50c87e",
   "metadata": {},
   "outputs": [],
   "source": [
    "sns.lmplot(x='Tenure', y='CreditScore', data=df, hue=\"Exited\", fit_reg=False);"
   ]
  },
  {
   "cell_type": "markdown",
   "id": "c0444f4e",
   "metadata": {},
   "source": [
    "# 7. Check for Categorical columns and perform encoding."
   ]
  },
  {
   "cell_type": "code",
   "execution_count": null,
   "id": "26e982a8",
   "metadata": {},
   "outputs": [],
   "source": [
    "df['Gender'].unique()"
   ]
  },
  {
   "cell_type": "code",
   "execution_count": null,
   "id": "48828d8f",
   "metadata": {},
   "outputs": [],
   "source": [
    "df['Geography'].unique()"
   ]
  },
  {
   "cell_type": "code",
   "execution_count": null,
   "id": "050965d6",
   "metadata": {},
   "outputs": [],
   "source": [
    "df['Geography']=preprocessing.LabelEncoder().fit_transform(df['Geography'])"
   ]
  },
  {
   "cell_type": "code",
   "execution_count": null,
   "id": "83b85c78",
   "metadata": {},
   "outputs": [],
   "source": [
    "df['Gender']=df['Gender'].map({'Male':0,'Female':1})"
   ]
  },
  {
   "cell_type": "markdown",
   "id": "9987d12a",
   "metadata": {},
   "source": [
    "# 6. Find the outliers and replace the outliers"
   ]
  },
  {
   "cell_type": "code",
   "execution_count": null,
   "id": "edf06a43",
   "metadata": {},
   "outputs": [],
   "source": [
    "df.describe()['Balance']"
   ]
  },
  {
   "cell_type": "code",
   "execution_count": null,
   "id": "9707558e",
   "metadata": {},
   "outputs": [],
   "source": [
    "def impute_outliers_IQR(df):\n",
    "    qu1 = df.quantile(0.25)\n",
    "    qu3 = df.quantile(0.75)\n",
    "    iqr = qu3 - qu1\n",
    "\n",
    "    upper = df[~(df > (qu3 + 1.5 * iqr))].max()\n",
    "    lower = df[~(df < (qu1 - 1.5 * iqr))].min()\n",
    "\n",
    "    df = np.where(\n",
    "       df > upper, \n",
    "       df.mean(), \n",
    "       np.where(df < lower, df.mean(), df)\n",
    "    )\n",
    "\n",
    "    return df"
   ]
  },
  {
   "cell_type": "code",
   "execution_count": null,
   "id": "5f519e33",
   "metadata": {},
   "outputs": [],
   "source": [
    "df['Balance'] = impute_outliers_IQR(df['Balance'])"
   ]
  },
  {
   "cell_type": "code",
   "execution_count": null,
   "id": "7c8c51f3",
   "metadata": {},
   "outputs": [],
   "source": [
    "df.describe()['Balance']"
   ]
  },
  {
   "cell_type": "code",
   "execution_count": null,
   "id": "1f8114e5",
   "metadata": {},
   "outputs": [],
   "source": [
    "df.describe()['EstimatedSalary']"
   ]
  },
  {
   "cell_type": "code",
   "execution_count": null,
   "id": "55bbf8d7",
   "metadata": {},
   "outputs": [],
   "source": [
    "df['EstimatedSalary'] = impute_outliers_IQR(df['EstimatedSalary'])"
   ]
  },
  {
   "cell_type": "code",
   "execution_count": null,
   "id": "8c5e62ef",
   "metadata": {},
   "outputs": [],
   "source": [
    "df.describe()['EstimatedSalary']"
   ]
  },
  {
   "cell_type": "code",
   "execution_count": null,
   "id": "a6f75de9",
   "metadata": {},
   "outputs": [],
   "source": [
    "def find_outliers_IQR(df):\n",
    "    qu1=df.quantile(0.25)\n",
    "    qu3=df.quantile(0.75)\n",
    "    iqr = qu3 - qu1\n",
    "\n",
    "    outliers = df[((df < (qu1 - 1.5 * iqr)) | (df > (qu3 + 1.5 * iqr)))]\n",
    "    return outliers"
   ]
  },
  {
   "cell_type": "code",
   "execution_count": null,
   "id": "0c0326a2",
   "metadata": {},
   "outputs": [],
   "source": [
    "outliers = find_outliers_IQR(df['EstimatedSalary'])"
   ]
  },
  {
   "cell_type": "code",
   "execution_count": null,
   "id": "76685ac5",
   "metadata": {},
   "outputs": [],
   "source": [
    "print(outliers)"
   ]
  },
  {
   "cell_type": "code",
   "execution_count": null,
   "id": "d6dbea65",
   "metadata": {},
   "outputs": [],
   "source": [
    "outliers = find_outliers_IQR(df['Balance'])"
   ]
  },
  {
   "cell_type": "code",
   "execution_count": null,
   "id": "cb0dcb67",
   "metadata": {},
   "outputs": [],
   "source": [
    "print(len(outliers))\n",
    "print(outliers.max())\n",
    "print(outliers.min())"
   ]
  },
  {
   "cell_type": "code",
   "execution_count": null,
   "id": "31dc246b",
   "metadata": {},
   "outputs": [],
   "source": [
    "sns.boxplot(y=df['Balance'])"
   ]
  },
  {
   "cell_type": "code",
   "execution_count": null,
   "id": "51deca0f",
   "metadata": {},
   "outputs": [],
   "source": [
    "sns.boxplot(y=df['EstimatedSalary'])"
   ]
  },
  {
   "cell_type": "code",
   "execution_count": null,
   "id": "f388f848",
   "metadata": {},
   "outputs": [],
   "source": [
    "sns.boxplot(y=df['CreditScore'])"
   ]
  },
  {
   "cell_type": "code",
   "execution_count": null,
   "id": "8ba3e40e",
   "metadata": {},
   "outputs": [],
   "source": [
    "outliers = find_outliers_IQR(df['CreditScore'])"
   ]
  },
  {
   "cell_type": "code",
   "execution_count": null,
   "id": "b7d090a0",
   "metadata": {},
   "outputs": [],
   "source": [
    "print(len(outliers))\n",
    "print(outliers.max())\n",
    "print(outliers.min())"
   ]
  },
  {
   "cell_type": "code",
   "execution_count": null,
   "id": "1be86130",
   "metadata": {},
   "outputs": [],
   "source": [
    "df['CreditScore'] = impute_outliers_IQR(df['CreditScore'])"
   ]
  },
  {
   "cell_type": "code",
   "execution_count": null,
   "id": "0db4ead3",
   "metadata": {},
   "outputs": [],
   "source": [
    "df.describe()['CreditScore']"
   ]
  },
  {
   "cell_type": "code",
   "execution_count": null,
   "id": "e1d602a2",
   "metadata": {},
   "outputs": [],
   "source": [
    "sns.boxplot(y=df['CreditScore'])"
   ]
  },
  {
   "cell_type": "markdown",
   "id": "c045cfd5",
   "metadata": {},
   "source": [
    "# 8. Split the data into dependent and independent variables."
   ]
  },
  {
   "cell_type": "code",
   "execution_count": null,
   "id": "60cc71f7",
   "metadata": {},
   "outputs": [],
   "source": [
    "features=list(set(df)-set(['Exited']))"
   ]
  },
  {
   "cell_type": "code",
   "execution_count": null,
   "id": "52f9fc4b",
   "metadata": {},
   "outputs": [],
   "source": [
    "features"
   ]
  },
  {
   "cell_type": "code",
   "execution_count": null,
   "id": "8e34d2e0",
   "metadata": {},
   "outputs": [],
   "source": [
    "x=df[features].values"
   ]
  },
  {
   "cell_type": "code",
   "execution_count": null,
   "id": "2c8f9987",
   "metadata": {},
   "outputs": [],
   "source": [
    "x"
   ]
  },
  {
   "cell_type": "code",
   "execution_count": null,
   "id": "77de8706",
   "metadata": {},
   "outputs": [],
   "source": [
    "y=df['Exited'].values"
   ]
  },
  {
   "cell_type": "code",
   "execution_count": null,
   "id": "522dd488",
   "metadata": {},
   "outputs": [],
   "source": [
    "y"
   ]
  },
  {
   "cell_type": "code",
   "execution_count": null,
   "id": "c95329eb",
   "metadata": {},
   "outputs": [],
   "source": [
    "df[features]"
   ]
  },
  {
   "cell_type": "markdown",
   "id": "04b6748d",
   "metadata": {},
   "source": [
    "# 9. Scale the independent variables"
   ]
  },
  {
   "cell_type": "code",
   "execution_count": null,
   "id": "602475bb",
   "metadata": {},
   "outputs": [],
   "source": [
    "scale = StandardScaler()\n",
    "x = scale.fit_transform(df[['EstimatedSalary','Balance','CreditScore']])\n",
    "x"
   ]
  },
  {
   "cell_type": "markdown",
   "id": "0fcd5b5d",
   "metadata": {},
   "source": [
    "# 10. Split the data into training and testing"
   ]
  },
  {
   "cell_type": "code",
   "execution_count": null,
   "id": "e8204a28",
   "metadata": {},
   "outputs": [],
   "source": [
    "train_x,test_x,train_y,test_y=train_test_split(x,y,test_size=0.3,random_state=0)"
   ]
  },
  {
   "cell_type": "code",
   "execution_count": null,
   "id": "85c11255",
   "metadata": {},
   "outputs": [],
   "source": [
    "train_x,test_x,train_y,test_y"
   ]
  },
  {
   "cell_type": "code",
   "execution_count": null,
   "id": "244f0d5f",
   "metadata": {},
   "outputs": [],
   "source": []
  }
 ],
 "metadata": {
  "kernelspec": {
   "display_name": "Python 3 (ipykernel)",
   "language": "python",
   "name": "python3"
  },
  "language_info": {
   "codemirror_mode": {
    "name": "ipython",
    "version": 3
   },
   "file_extension": ".py",
   "mimetype": "text/x-python",
   "name": "python",
   "nbconvert_exporter": "python",
   "pygments_lexer": "ipython3",
   "version": "3.10.4"
  }
 },
 "nbformat": 4,
 "nbformat_minor": 5
}
